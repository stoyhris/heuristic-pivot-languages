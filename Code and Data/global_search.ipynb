{
 "cells": [
  {
   "cell_type": "code",
   "execution_count": 1,
   "metadata": {},
   "outputs": [],
   "source": [
    "import numpy as np \n",
    "import pandas as pd"
   ]
  },
  {
   "cell_type": "code",
   "execution_count": 2,
   "metadata": {},
   "outputs": [
    {
     "name": "stdout",
     "output_type": "stream",
     "text": [
      "  src/tgt      en      tr      de      fi      fr      hr      it      ru\n",
      "0      en  1.0000  0.2469  0.3404  0.2375  0.5828  0.2135  0.5511  0.2142\n",
      "1      tr  0.2469  1.0000  0.2100  0.1611  0.3026  0.1575  0.2946  0.1038\n",
      "2      de  0.3404  0.2100  1.0000  0.2298  0.3272  0.2112  0.3420  0.1540\n",
      "3      fi  0.2375  0.1611  0.2298  1.0000  0.3284  0.2534  0.3210  0.2839\n",
      "4      fr  0.5828  0.3026  0.3272  0.3284  1.0000  0.3210  0.6410  0.4332\n",
      "5      hr  0.2135  0.1575  0.2112  0.2534  0.3611  1.0000  0.3687  0.3252\n",
      "6      it  0.5511  0.2946  0.3420  0.3210  0.6410  0.3687  1.0000  0.4293\n",
      "7      ru  0.2142  0.1038  0.1540  0.2839  0.4332  0.3252  0.4293  1.0000\n",
      "[['en' 1.0 0.2469 0.3404 0.2375 0.5828 0.2135 0.5511 0.2142]\n",
      " ['tr' 0.2469 1.0 0.21 0.1611 0.3026 0.1575 0.2946 0.1038]\n",
      " ['de' 0.3404 0.21 1.0 0.2298 0.3272 0.2112 0.342 0.154]\n",
      " ['fi' 0.2375 0.1611 0.2298 1.0 0.3284 0.2534 0.321 0.2839]\n",
      " ['fr' 0.5828 0.3026 0.3272 0.3284 1.0 0.321 0.641 0.4332]\n",
      " ['hr' 0.2135 0.1575 0.2112 0.2534 0.3611 1.0 0.3687 0.3252]\n",
      " ['it' 0.5511 0.2946 0.342 0.321 0.641 0.3687 1.0 0.4293]\n",
      " ['ru' 0.2142 0.1038 0.154 0.2839 0.4332 0.3252 0.4293 1.0]]\n",
      "[[1.0 0.2469 0.3404 0.2375 0.5828 0.2135 0.5511 0.2142]\n",
      " [0.2469 1.0 0.21 0.1611 0.3026 0.1575 0.2946 0.1038]\n",
      " [0.3404 0.21 1.0 0.2298 0.3272 0.2112 0.342 0.154]\n",
      " [0.2375 0.1611 0.2298 1.0 0.3284 0.2534 0.321 0.2839]\n",
      " [0.5828 0.3026 0.3272 0.3284 1.0 0.321 0.641 0.4332]\n",
      " [0.2135 0.1575 0.2112 0.2534 0.3611 1.0 0.3687 0.3252]\n",
      " [0.5511 0.2946 0.342 0.321 0.641 0.3687 1.0 0.4293]\n",
      " [0.2142 0.1038 0.154 0.2839 0.4332 0.3252 0.4293 1.0]]\n"
     ]
    }
   ],
   "source": [
    "xlsx = pd.ExcelFile('Accuracy and Coverage.xlsx')\n",
    "lang_df = pd.read_excel(xlsx, 'Accuracy')\n",
    "lang_df.set_index(lang_df.iloc[:,0])\n",
    "lang_df.drop(columns=['src/tgt'])\n",
    "print(lang_df)\n",
    "lang_mat = lang_df.values\n",
    "print(lang_mat)\n",
    "lang_mat = np.delete(lang_mat,0,1)\n",
    "print(lang_mat)"
   ]
  },
  {
   "cell_type": "code",
   "execution_count": 3,
   "metadata": {},
   "outputs": [],
   "source": [
    "#A = np.array([[1, 0.1, 0.8],[0,1,0.3],[0.9,0.99,1]])\n",
    "\n",
    "#print(\"\\n\\nA:\\n\\n\")\n",
    "#print(A)\n",
    "\n",
    "A = lang_mat"
   ]
  },
  {
   "cell_type": "code",
   "execution_count": 8,
   "metadata": {},
   "outputs": [
    {
     "name": "stdout",
     "output_type": "stream",
     "text": [
      "[[1.0 0.2469 0.3404 0.2375 0.5828 0.2135 0.5511 0.2142]\n",
      " [0.2469 1.0 0.21 0.1611 0.3026 0.1575 0.2946 0.1038]\n",
      " [0.3404 0.21 1.0 0.2298 0.3272 0.2112 0.342 0.154]\n",
      " [0.2375 0.1611 0.2298 1.0 0.3284 0.2534 0.321 0.2839]\n",
      " [0.5828 0.3026 0.3272 0.3284 1.0 0.321 0.641 0.4332]\n",
      " [0.2135 0.1575 0.2112 0.2534 0.3611 1.0 0.3687 0.3252]\n",
      " [0.5511 0.2946 0.342 0.321 0.641 0.3687 1.0 0.4293]\n",
      " [0.2142 0.1038 0.154 0.2839 0.4332 0.3252 0.4293 1.0]]\n"
     ]
    }
   ],
   "source": [
    "#names = [_ for _ in 'abc']\n",
    "#df = pd.DataFrame(A, index=names, columns=names)\n",
    "#print(\"\\n\\nDF:\\n\\n\")\n",
    "#print(df)\n",
    "#print(\"\\n\\nnames:\\n\\n\")\n",
    "#print(names)\n",
    "names = ['en','tr','de','fi','fr','hr','it','ru']\n",
    "df = pd.DataFrame(A, index=names, columns=names)"
   ]
  },
  {
   "cell_type": "code",
   "execution_count": 5,
   "metadata": {},
   "outputs": [],
   "source": [
    "lang_dict = {\n",
    "    0: \"en\",\n",
    "    1: \"tr\",\n",
    "    2: \"de\",\n",
    "    3: \"fi\",\n",
    "    4: \"fr\",\n",
    "    5: \"hr\",\n",
    "    6: \"it\",\n",
    "    7: \"ru\"\n",
    "}"
   ]
  },
  {
   "cell_type": "code",
   "execution_count": 6,
   "metadata": {},
   "outputs": [
    {
     "name": "stdout",
     "output_type": "stream",
     "text": [
      "['en', 'en', 'en', 'en', 'en', 'en', 'en', 'en', 'en', 'en', 'en', 'en', 'en', 'en', 'en', 'en', 'en', 'en', 'en', 'en', 'en', 'en', 'en', 'en', 'en', 'en', 'en', 'en', 'en', 'en', 'en', 'en', 'en', 'en', 'en', 'en', 'en', 'en', 'en', 'en', 'en', 'en', 'en', 'en', 'en', 'en', 'en', 'en', 'en', 'en', 'en', 'en', 'en', 'en', 'en', 'en', 'en', 'en', 'en', 'en', 'en', 'en', 'en', 'en', 'tr', 'tr', 'tr', 'tr', 'tr', 'tr', 'tr', 'tr', 'tr', 'tr', 'tr', 'tr', 'tr', 'tr', 'tr', 'tr', 'tr', 'tr', 'tr', 'tr', 'tr', 'tr', 'tr', 'tr', 'tr', 'tr', 'tr', 'tr', 'tr', 'tr', 'tr', 'tr', 'tr', 'tr', 'tr', 'tr', 'tr', 'tr', 'tr', 'tr', 'tr', 'tr', 'tr', 'tr', 'tr', 'tr', 'tr', 'tr', 'tr', 'tr', 'tr', 'tr', 'tr', 'tr', 'tr', 'tr', 'tr', 'tr', 'tr', 'tr', 'tr', 'tr', 'tr', 'tr', 'de', 'de', 'de', 'de', 'de', 'de', 'de', 'de', 'de', 'de', 'de', 'de', 'de', 'de', 'de', 'de', 'de', 'de', 'de', 'de', 'de', 'de', 'de', 'de', 'de', 'de', 'de', 'de', 'de', 'de', 'de', 'de', 'de', 'de', 'de', 'de', 'de', 'de', 'de', 'de', 'de', 'de', 'de', 'de', 'de', 'de', 'de', 'de', 'de', 'de', 'de', 'de', 'de', 'de', 'de', 'de', 'de', 'de', 'de', 'de', 'de', 'de', 'de', 'de', 'fi', 'fi', 'fi', 'fi', 'fi', 'fi', 'fi', 'fi', 'fi', 'fi', 'fi', 'fi', 'fi', 'fi', 'fi', 'fi', 'fi', 'fi', 'fi', 'fi', 'fi', 'fi', 'fi', 'fi', 'fi', 'fi', 'fi', 'fi', 'fi', 'fi', 'fi', 'fi', 'fi', 'fi', 'fi', 'fi', 'fi', 'fi', 'fi', 'fi', 'fi', 'fi', 'fi', 'fi', 'fi', 'fi', 'fi', 'fi', 'fi', 'fi', 'fi', 'fi', 'fi', 'fi', 'fi', 'fi', 'fi', 'fi', 'fi', 'fi', 'fi', 'fi', 'fi', 'fi', 'fr', 'fr', 'fr', 'fr', 'fr', 'fr', 'fr', 'fr', 'fr', 'fr', 'fr', 'fr', 'fr', 'fr', 'fr', 'fr', 'fr', 'fr', 'fr', 'fr', 'fr', 'fr', 'fr', 'fr', 'fr', 'fr', 'fr', 'fr', 'fr', 'fr', 'fr', 'fr', 'fr', 'fr', 'fr', 'fr', 'fr', 'fr', 'fr', 'fr', 'fr', 'fr', 'fr', 'fr', 'fr', 'fr', 'fr', 'fr', 'fr', 'fr', 'fr', 'fr', 'fr', 'fr', 'fr', 'fr', 'fr', 'fr', 'fr', 'fr', 'fr', 'fr', 'fr', 'fr', 'hr', 'hr', 'hr', 'hr', 'hr', 'hr', 'hr', 'hr', 'hr', 'hr', 'hr', 'hr', 'hr', 'hr', 'hr', 'hr', 'hr', 'hr', 'hr', 'hr', 'hr', 'hr', 'hr', 'hr', 'hr', 'hr', 'hr', 'hr', 'hr', 'hr', 'hr', 'hr', 'hr', 'hr', 'hr', 'hr', 'hr', 'hr', 'hr', 'hr', 'hr', 'hr', 'hr', 'hr', 'hr', 'hr', 'hr', 'hr', 'hr', 'hr', 'hr', 'hr', 'hr', 'hr', 'hr', 'hr', 'hr', 'hr', 'hr', 'hr', 'hr', 'hr', 'hr', 'hr', 'it', 'it', 'it', 'it', 'it', 'it', 'it', 'it', 'it', 'it', 'it', 'it', 'it', 'it', 'it', 'it', 'it', 'it', 'it', 'it', 'it', 'it', 'it', 'it', 'it', 'it', 'it', 'it', 'it', 'it', 'it', 'it', 'it', 'it', 'it', 'it', 'it', 'it', 'it', 'it', 'it', 'it', 'it', 'it', 'it', 'it', 'it', 'it', 'it', 'it', 'it', 'it', 'it', 'it', 'it', 'it', 'it', 'it', 'it', 'it', 'it', 'it', 'it', 'it', 'ru', 'ru', 'ru', 'ru', 'ru', 'ru', 'ru', 'ru', 'ru', 'ru', 'ru', 'ru', 'ru', 'ru', 'ru', 'ru', 'ru', 'ru', 'ru', 'ru', 'ru', 'ru', 'ru', 'ru', 'ru', 'ru', 'ru', 'ru', 'ru', 'ru', 'ru', 'ru', 'ru', 'ru', 'ru', 'ru', 'ru', 'ru', 'ru', 'ru', 'ru', 'ru', 'ru', 'ru', 'ru', 'ru', 'ru', 'ru', 'ru', 'ru', 'ru', 'ru', 'ru', 'ru', 'ru', 'ru', 'ru', 'ru', 'ru', 'ru', 'ru', 'ru', 'ru', 'ru']\n",
      "\n",
      "\n",
      "length of source:\n",
      "\n",
      "\n",
      "512\n",
      "\n",
      "\n",
      "length of target:\n",
      "\n",
      "\n",
      "512\n",
      "\n",
      "\n",
      "length of pivot:\n",
      "\n",
      "\n",
      "512\n",
      "\n",
      "\n",
      "length of accuracy:\n",
      "\n",
      "\n",
      "512\n",
      "\n",
      "\n",
      "length of og_accuracy:\n",
      "\n",
      "\n",
      "512\n"
     ]
    }
   ],
   "source": [
    "accuracy = []\n",
    "source = []\n",
    "target = []\n",
    "pivot = []\n",
    "og_accuracy = []\n",
    "for src_lang in range(0,len(df)):\n",
    "    for tgt_lang in range(0,len(df)):\n",
    "        for pvt_lang in range(0,len(df)):\n",
    "            og_accuracy.append(A[src_lang,tgt_lang])\n",
    "for src_lang in range(0, len(df)):\n",
    "    for tgt_lang in range(0, len(df)):\n",
    "        for pvt_lang in range(0, len(df)):\n",
    "            source.append(lang_dict[src_lang]) #FEEDING INTO THE DICTIONARY WHEN APPENDING INTO THE DF\n",
    "            target.append(lang_dict[tgt_lang]) #FEEDING INTO THE DICTIONARY WHEN APPENDING INTO THE DF\n",
    "            pivot.append(lang_dict[pvt_lang]) #FEEDING INTO THE DICTIONARY WHEN APPENDING INTO THE DF\n",
    "            accuracy.append(\"{:.3f}\".format(A[src_lang,pvt_lang]*A[pvt_lang,tgt_lang])) #ALWAYS PRINT TO 3 DECIMAL PLACES CAUSE IT WAS BUGGING OUT\n",
    "print(source)\n",
    "print(\"\\n\\nlength of source:\\n\\n\")\n",
    "print(len(source))\n",
    "print(\"\\n\\nlength of target:\\n\\n\")\n",
    "print(len(target))\n",
    "print(\"\\n\\nlength of pivot:\\n\\n\")\n",
    "print(len(pivot))\n",
    "print(\"\\n\\nlength of accuracy:\\n\\n\")\n",
    "print(len(accuracy))\n",
    "print(\"\\n\\nlength of og_accuracy:\\n\\n\")\n",
    "print(len(og_accuracy))"
   ]
  },
  {
   "cell_type": "code",
   "execution_count": 7,
   "metadata": {},
   "outputs": [
    {
     "name": "stdout",
     "output_type": "stream",
     "text": [
      "\n",
      "\n",
      "newdf:\n",
      "\n",
      "\n",
      "    source target pivot accuracy original\n",
      "10      en     tr    de    0.071   0.2469\n",
      "11      en     tr    fi    0.038   0.2469\n",
      "12      en     tr    fr    0.176   0.2469\n",
      "13      en     tr    hr    0.034   0.2469\n",
      "14      en     tr    it    0.162   0.2469\n",
      "..     ...    ...   ...      ...      ...\n",
      "497     ru     it    tr    0.031   0.4293\n",
      "498     ru     it    de    0.053   0.4293\n",
      "499     ru     it    fi    0.091   0.4293\n",
      "500     ru     it    fr    0.278   0.4293\n",
      "501     ru     it    hr    0.120   0.4293\n",
      "\n",
      "[336 rows x 5 columns]\n",
      "\n",
      "\n",
      "better pivot newdf:\n",
      "\n",
      "\n",
      "    source target pivot accuracy original\n",
      "60      en     ru    fr    0.252   0.2142\n",
      "62      en     ru    it    0.237   0.2142\n",
      "124     tr     ru    fr    0.131   0.1038\n",
      "126     tr     ru    it    0.126   0.1038\n",
      "452     ru     en    fr    0.252   0.2142\n",
      "454     ru     en    it    0.237   0.2142\n",
      "460     ru     tr    fr    0.131   0.1038\n",
      "462     ru     tr    it    0.126   0.1038\n"
     ]
    }
   ],
   "source": [
    "newdf_data = np.array([source,target,pivot,accuracy,og_accuracy])\n",
    "newdf_data = newdf_data.transpose()\n",
    "newdf = pd.DataFrame(newdf_data, columns=['source','target','pivot','accuracy','original'])\n",
    "newdf = newdf[(newdf.source != newdf.target) & (newdf['source'] != newdf['pivot']) & (newdf['target'] != newdf['pivot'])]\n",
    "\n",
    "#rename\n",
    "print(\"\\n\\nnewdf:\\n\\n\")\n",
    "print(newdf)\n",
    "\n",
    "#Select only where pivot is better\n",
    "print(\"\\n\\nbetter pivot newdf:\\n\\n\")\n",
    "print(newdf[newdf['accuracy'] >= newdf['original']])"
   ]
  }
 ],
 "metadata": {
  "kernelspec": {
   "display_name": "Python 3 (ipykernel)",
   "language": "python",
   "name": "python3"
  },
  "language_info": {
   "codemirror_mode": {
    "name": "ipython",
    "version": 3
   },
   "file_extension": ".py",
   "mimetype": "text/x-python",
   "name": "python",
   "nbconvert_exporter": "python",
   "pygments_lexer": "ipython3",
   "version": "3.10.9"
  }
 },
 "nbformat": 4,
 "nbformat_minor": 4
}
